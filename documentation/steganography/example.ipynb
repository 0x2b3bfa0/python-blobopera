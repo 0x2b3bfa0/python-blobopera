{
  "nbformat": 4,
  "nbformat_minor": 0,
  "metadata" : {},
  "cells": [
    {
      "cell_type": "code",
      "metadata" : {},
      "source": [
        "%%bash\n",
        "cat > alice.proto <<-END\n",
        "  syntax = \"proto2\";\n",
        "\n",
        "  message InconspicuousMessage {\n",
        "    required string greeting = 1;\n",
        "  }\n",
        "END"
      ],
      "execution_count": 1,
      "outputs": []
    },
    {
      "cell_type": "code",
      "metadata" : {},
      "source": [
        "%%bash\n",
        "cat > bob.proto <<-END\n",
        "  syntax = \"proto2\";\n",
        "\n",
        "  message InconspicuousMessage {\n",
        "    required string greeting = 1;\n",
        "    required string hidden = 2;\n",
        "  }\n",
        "END"
      ],
      "execution_count": 2,
      "outputs": []
    },
    {
      "cell_type": "code",
      "metadata" : {},
      "source": [
        "%%bash\n",
        "protoc --encode InconspicuousMessage bob.proto > message.bin <<-END\n",
        "  greeting: \"Hello, world!\"\n",
        "  hidden: \"Johannes Trithemius\"\n",
        "END"
      ],
      "execution_count": 3,
      "outputs": []
    },
    {
      "cell_type": "code",
      "metadata" : {},
      "source": [
        "%%bash\n",
        "protoc --decode InconspicuousMessage alice.proto < message.bin"
      ],
      "execution_count": 4,
      "outputs": [
        {
          "output_type": "stream",
          "text": [
            "greeting: \"Hello, world!\"\n",
            "2: \"Johannes Trithemius\"\n"
          ],
          "name": "stdout"
        }
      ]
    },
    {
      "cell_type": "code",
      "metadata" : {},
      "source": [
        "%%bash\n",
        "protoc --decode InconspicuousMessage bob.proto < message.bin"
      ],
      "execution_count": 5,
      "outputs": [
        {
          "output_type": "stream",
          "text": [
            "greeting: \"Hello, world!\"\n",
            "hidden: \"Johannes Trithemius\"\n"
          ],
          "name": "stdout"
        }
      ]
    },
    {
      "cell_type": "code",
      "metadata" : {},
      "source": [
        "%%bash\n",
        "protoc --decode_raw < message.bin"
      ],
      "execution_count": 6,
      "outputs": [
        {
          "output_type": "stream",
          "text": [
            "1: \"Hello, world!\"\n",
            "2: \"Johannes Trithemius\"\n"
          ],
          "name": "stdout"
        }
      ]
    }
  ]
}
